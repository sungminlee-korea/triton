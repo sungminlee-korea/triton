{
 "cells": [
  {
   "cell_type": "code",
   "execution_count": 5,
   "metadata": {},
   "outputs": [],
   "source": [
    "import numpy as np\n",
    "\n",
    "def decompose_float32(f):\n",
    "    i = f.view(np.int32)\n",
    "    sign = (i >> 31) & 0x1\n",
    "    exponent = ((i >> 23) & 0xFF) - 127\n",
    "    mantissa = (i & 0x7FFFFF) | 0x800000\n",
    "    return sign, exponent, mantissa"
   ]
  },
  {
   "cell_type": "code",
   "execution_count": 7,
   "metadata": {},
   "outputs": [
    {
     "name": "stdout",
     "output_type": "stream",
     "text": [
      "Sign: 0\n",
      "Exponent: 3\n",
      "Mantissa: 110001100000000000000000\n"
     ]
    }
   ],
   "source": [
    "x = np.float32(12.375)\n",
    "sign, exponent, mantissa = decompose_float32(x)\n",
    "\n",
    "print(f\"Sign: {sign}\")\n",
    "print(f\"Exponent: {exponent}\")\n",
    "print(f\"Mantissa: {mantissa:023b}\")  # 23-bit binary representation"
   ]
  },
  {
   "cell_type": "code",
   "execution_count": null,
   "metadata": {},
   "outputs": [],
   "source": []
  }
 ],
 "metadata": {
  "kernelspec": {
   "display_name": ".venv",
   "language": "python",
   "name": "python3"
  },
  "language_info": {
   "codemirror_mode": {
    "name": "ipython",
    "version": 3
   },
   "file_extension": ".py",
   "mimetype": "text/x-python",
   "name": "python",
   "nbconvert_exporter": "python",
   "pygments_lexer": "ipython3",
   "version": "3.10.12"
  }
 },
 "nbformat": 4,
 "nbformat_minor": 2
}
